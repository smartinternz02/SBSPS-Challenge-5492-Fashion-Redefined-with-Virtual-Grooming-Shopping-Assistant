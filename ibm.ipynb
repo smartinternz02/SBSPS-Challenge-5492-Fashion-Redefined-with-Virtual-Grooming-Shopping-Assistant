{
 "cells": [
  {
   "cell_type": "markdown",
   "metadata": {},
   "source": [
    "## Importing libraries"
   ]
  },
  {
   "cell_type": "code",
   "execution_count": 1,
   "metadata": {},
   "outputs": [],
   "source": [
    "from tensorflow.keras.models import Sequential\n",
    "from tensorflow.keras.layers import Dense\n",
    "from tensorflow.keras.layers import Convolution2D\n",
    "from tensorflow.keras.layers import MaxPooling2D\n",
    "from tensorflow.keras.layers import Flatten"
   ]
  },
  {
   "cell_type": "markdown",
   "metadata": {},
   "source": [
    "## Preprocessing the images\n",
    "    *augumenting the image feature,image data generator library\n",
    "    *load the dataset\n",
    "    *apply augmented feature to train and test set"
   ]
  },
  {
   "cell_type": "code",
   "execution_count": 35,
   "metadata": {},
   "outputs": [],
   "source": [
    "from tensorflow.keras.preprocessing.image import ImageDataGenerator\n",
    "train_datagen = ImageDataGenerator(rescale = 1./255,shear_range = 0.2,zoom_range = 0.2,horizontal_flip = True)\n",
    "test_datagen = ImageDataGenerator(rescale = 1./255)"
   ]
  },
  {
   "cell_type": "code",
   "execution_count": 36,
   "metadata": {},
   "outputs": [
    {
     "name": "stdout",
     "output_type": "stream",
     "text": [
      "Found 5522 images belonging to 11 classes.\n",
      "Found 2360 images belonging to 11 classes.\n"
     ]
    }
   ],
   "source": [
    "x_train = train_datagen.flow_from_directory(r'C:\\Users\\HP\\Desktop\\IBM hack\\trainset',target_size = (64,64),batch_size = 64,class_mode = \"categorical\")\n",
    "x_test = test_datagen.flow_from_directory(r'C:\\Users\\HP\\Desktop\\IBM hack\\testset',target_size = (64,64),batch_size = 64,class_mode = \"categorical\")"
   ]
  },
  {
   "cell_type": "code",
   "execution_count": 37,
   "metadata": {},
   "outputs": [
    {
     "data": {
      "text/plain": [
       "{'Blazer': 0,\n",
       " 'Footwear': 1,\n",
       " 'Hoodies': 2,\n",
       " 'Men shirts': 3,\n",
       " \"Men's bottomwear\": 4,\n",
       " 'Mens Tshirts': 5,\n",
       " 'Sweater': 6,\n",
       " 'girls tops': 7,\n",
       " 'kurtas': 8,\n",
       " 'leggings': 9,\n",
       " 'sarees': 10}"
      ]
     },
     "execution_count": 37,
     "metadata": {},
     "output_type": "execute_result"
    }
   ],
   "source": [
    "x_train.class_indices"
   ]
  },
  {
   "cell_type": "markdown",
   "metadata": {},
   "source": [
    "## Initialising the model \n",
    "convolution2D(num of feature detctors,size,shape,activation function)"
   ]
  },
  {
   "cell_type": "code",
   "execution_count": 38,
   "metadata": {},
   "outputs": [],
   "source": [
    "model = Sequential()"
   ]
  },
  {
   "cell_type": "code",
   "execution_count": 39,
   "metadata": {},
   "outputs": [],
   "source": [
    "model.add(Convolution2D(32,(3,3),input_shape = (64,64,3),activation = \"relu\"))"
   ]
  },
  {
   "cell_type": "code",
   "execution_count": 40,
   "metadata": {},
   "outputs": [],
   "source": [
    "model.add(MaxPooling2D(pool_size = (2,2)))"
   ]
  },
  {
   "cell_type": "code",
   "execution_count": 41,
   "metadata": {},
   "outputs": [],
   "source": [
    "model.add(Flatten())"
   ]
  },
  {
   "cell_type": "code",
   "execution_count": 42,
   "metadata": {},
   "outputs": [],
   "source": [
    "model.add(Dense(units = 128,kernel_initializer = \"random_uniform\",activation = \"relu\"))"
   ]
  },
  {
   "cell_type": "code",
   "execution_count": 43,
   "metadata": {},
   "outputs": [],
   "source": [
    "model.add(Dense(units = 128,kernel_initializer = \"random_uniform\",activation = \"relu\"))"
   ]
  },
  {
   "cell_type": "code",
   "execution_count": 44,
   "metadata": {},
   "outputs": [],
   "source": [
    "model.add(Dense(units = 11,kernel_initializer = \"random_uniform\",activation = \"softmax\"))"
   ]
  },
  {
   "cell_type": "code",
   "execution_count": 45,
   "metadata": {},
   "outputs": [],
   "source": [
    "model.compile(loss = \"categorical_crossentropy\",optimizer = \"adam\",metrics = [\"accuracy\"])"
   ]
  },
  {
   "cell_type": "code",
   "execution_count": 47,
   "metadata": {},
   "outputs": [
    {
     "name": "stdout",
     "output_type": "stream",
     "text": [
      "WARNING:tensorflow:sample_weight modes were coerced from\n",
      "  ...\n",
      "    to  \n",
      "  ['...']\n",
      "WARNING:tensorflow:sample_weight modes were coerced from\n",
      "  ...\n",
      "    to  \n",
      "  ['...']\n",
      "Train for 86 steps, validate for 20 steps\n",
      "Epoch 1/11\n",
      "86/86 [==============================] - 228s 3s/step - loss: 0.3869 - accuracy: 0.8782 - val_loss: 1.0502 - val_accuracy: 0.7320\n",
      "Epoch 2/11\n",
      "86/86 [==============================] - 246s 3s/step - loss: 0.3179 - accuracy: 0.8992 - val_loss: 1.1601 - val_accuracy: 0.7102\n",
      "Epoch 3/11\n",
      "86/86 [==============================] - 209s 2s/step - loss: 0.2854 - accuracy: 0.9117 - val_loss: 1.1410 - val_accuracy: 0.7492\n",
      "Epoch 4/11\n",
      "86/86 [==============================] - 200s 2s/step - loss: 0.2404 - accuracy: 0.9221 - val_loss: 1.3734 - val_accuracy: 0.7125\n",
      "Epoch 5/11\n",
      "86/86 [==============================] - 198s 2s/step - loss: 0.2316 - accuracy: 0.9295 - val_loss: 1.0876 - val_accuracy: 0.7477\n",
      "Epoch 6/11\n",
      "86/86 [==============================] - 289s 3s/step - loss: 0.2064 - accuracy: 0.9317 - val_loss: 1.2329 - val_accuracy: 0.7336\n",
      "Epoch 7/11\n",
      "86/86 [==============================] - 251s 3s/step - loss: 0.1727 - accuracy: 0.9507 - val_loss: 1.1734 - val_accuracy: 0.7734\n",
      "Epoch 8/11\n",
      "86/86 [==============================] - 242s 3s/step - loss: 0.1424 - accuracy: 0.9586 - val_loss: 1.1007 - val_accuracy: 0.7773\n",
      "Epoch 9/11\n",
      "86/86 [==============================] - 244s 3s/step - loss: 0.1449 - accuracy: 0.9544 - val_loss: 1.3190 - val_accuracy: 0.7500\n",
      "Epoch 10/11\n",
      "86/86 [==============================] - 199s 2s/step - loss: 0.1211 - accuracy: 0.9630 - val_loss: 1.1079 - val_accuracy: 0.7758\n",
      "Epoch 11/11\n",
      "86/86 [==============================] - 197s 2s/step - loss: 0.1125 - accuracy: 0.9656 - val_loss: 1.2500 - val_accuracy: 0.7633\n"
     ]
    },
    {
     "data": {
      "text/plain": [
       "<tensorflow.python.keras.callbacks.History at 0x26f2c7701c8>"
      ]
     },
     "execution_count": 47,
     "metadata": {},
     "output_type": "execute_result"
    }
   ],
   "source": [
    "model.fit_generator(x_train,steps_per_epoch  =  86,epochs = 11,validation_data = x_test,validation_steps = 20)"
   ]
  },
  {
   "cell_type": "code",
   "execution_count": 48,
   "metadata": {},
   "outputs": [],
   "source": [
    "model.save(\"clothes.h5\")"
   ]
  },
  {
   "cell_type": "code",
   "execution_count": null,
   "metadata": {},
   "outputs": [],
   "source": []
  }
 ],
 "metadata": {
  "kernelspec": {
   "display_name": "Python 3",
   "language": "python",
   "name": "python3"
  },
  "language_info": {
   "codemirror_mode": {
    "name": "ipython",
    "version": 3
   },
   "file_extension": ".py",
   "mimetype": "text/x-python",
   "name": "python",
   "nbconvert_exporter": "python",
   "pygments_lexer": "ipython3",
   "version": "3.7.4"
  }
 },
 "nbformat": 4,
 "nbformat_minor": 2
}
